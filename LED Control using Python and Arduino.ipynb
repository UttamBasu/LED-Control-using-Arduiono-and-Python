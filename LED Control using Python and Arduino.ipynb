{
 "cells": [
  {
   "cell_type": "markdown",
   "metadata": {},
   "source": [
    "# Arduino Control usimg Python"
   ]
  },
  {
   "cell_type": "code",
   "execution_count": null,
   "metadata": {},
   "outputs": [],
   "source": [
    "import serial\n",
    "import time\n",
    "\n",
    "arduino=serial.Serial('COM4', 9600)\n",
    "time.sleep(2)\n",
    "\n",
    "print(\"Enter 1 to turn ON LED and 0 to turn OFF LED\")\n",
    "\n",
    "while 1:\n",
    "    \n",
    "    datafromUser=input()\n",
    "\n",
    "    if datafromUser == '1':\n",
    "        arduino.write(b'1')\n",
    "        print(\"LED  turned ON\")\n",
    "    elif datafromUser == '0':\n",
    "        arduino.write(b'0')\n",
    "        print(\"LED turned OFF\")"
   ]
  },
  {
   "cell_type": "markdown",
   "metadata": {},
   "source": [
    "Designed by- Uttam Basu"
   ]
  },
  {
   "cell_type": "code",
   "execution_count": null,
   "metadata": {},
   "outputs": [],
   "source": []
  }
 ],
 "metadata": {
  "kernelspec": {
   "display_name": "Python 3",
   "language": "python",
   "name": "python3"
  },
  "language_info": {
   "codemirror_mode": {
    "name": "ipython",
    "version": 3
   },
   "file_extension": ".py",
   "mimetype": "text/x-python",
   "name": "python",
   "nbconvert_exporter": "python",
   "pygments_lexer": "ipython3",
   "version": "3.8.5"
  }
 },
 "nbformat": 4,
 "nbformat_minor": 4
}
